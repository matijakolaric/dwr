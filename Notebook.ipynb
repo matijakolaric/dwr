{
 "cells": [
  {
   "cell_type": "markdown",
   "metadata": {
    "slideshow": {
     "slide_type": "slide"
    }
   },
   "source": [
    "# Matija Kolarić\n",
    "\n",
    "# Descriptors and Weak References\n",
    "## How to create Django-like models & fields with low-level Python?\n",
    "\n",
    "\n"
   ]
  },
  {
   "cell_type": "markdown",
   "metadata": {
    "slideshow": {
     "slide_type": "slide"
    }
   },
   "source": [
    "# About me\n",
    "\n",
    "* Primarily Python/Django developer since 2008\n",
    "\n",
    "* Currently leaving CARNET (a long story)\n",
    " \n",
    "* JAKO SEXY obrt za usluge (freelance)\n",
    "\n",
    "\n",
    "* https://matijakolaric.com\n",
    "* https://www.linkedin.com/in/matijakolaric/"
   ]
  },
  {
   "cell_type": "markdown",
   "metadata": {
    "slideshow": {
     "slide_type": "slide"
    }
   },
   "source": [
    "# Generate, parse and validate CWR format\n",
    "<code style=\"white-space: pre;\">\n",
    "HDRPB000000199THE SENDER                                   01.102018032210203720180322\n",
    "GRHNWR0000102.100000000000\n",
    "NWR0000000000000000THE WORK                                                      CLAIMDIGITAL01           00000000            POP000000Y      ORI         MRS. SMITH                                N00000000000\n",
    "SPU000000000000000101HCJ3EBJT6THE PUBLISHER                                 E 00000000000000000297              0100250003405000   05000 N\n",
    "SPU000000000000000201ILE7GIQMJTHE SENDER                                    AM00000000000000000199              0100000003400000   00000 N\n",
    "SPT0000000000000003ILE7GIQMJ      025000500005000I2136N001\n",
    "SWR00000000000000042RDRB3FHXDOE                                          JOHN                           CA0000000000000000039501002500   00000   00000 N\n",
    "SWT00000000000000052RDRB3FHX025000000000000I2136N001\n",
    "PWR0000000000000006HCJ3EBJT6THE PUBLISHER                                                            2RDRB3FHX\n",
    "OWR0000000000000007JZL2GMGV3DOE                                          JANE                           CA00000000000000000000   05000   05000   05000 N\n",
    "GRT000010000000100000010   0000000000\n",
    "TRL000010000000100000012\n",
    "</code>"
   ]
  },
  {
   "cell_type": "markdown",
   "metadata": {
    "slideshow": {
     "slide_type": "slide"
    }
   },
   "source": [
    "```python\n",
    "# ~10 years ago...\n",
    "\n",
    "def clean(self):\n",
    "    if not self.uploaded_file and not self.content:\n",
    "        raise ValidationError('Please attach the file.')\n",
    "\n",
    "    if not self.content:\n",
    "        self.content = self.uploaded_file.read()\n",
    "\n",
    "        try:\n",
    "            # Try ASCII and change to default\n",
    "            c = self.content.encode('ascii')\n",
    "            self.encoding = 1\n",
    "        except:\n",
    "            # Not ASCII - use whatever is specified, good luck!\n",
    "            try:\n",
    "                content = []\n",
    "                for i, c in enumerate(self.content.splitlines(1)):\n",
    "                    c = c.decode(self.encoding.code)\n",
    "                    try:\n",
    "                        c  = unidecode(c).upper()\n",
    "                    except:\n",
    "                        pass\n",
    "                    content.append(c)\n",
    "                self.content = ''.join(content)\n",
    "            except Exception:\n",
    "                # let's create a proper report\n",
    "                counter = 0\n",
    "                firstline = 0\n",
    "                otherlines = []\n",
    "                for i, line in enumerate(self.content.splitlines()):\n",
    "                    try:\n",
    "                        line.encode('ascii')\n",
    "                    except UnicodeDecodeError:\n",
    "                        if not firstline:\n",
    "                            firstline = (i + 1,\n",
    "                                         unicode(line, errors='ignore'))\n",
    "                        else:\n",
    "                            otherlines.append(str(i + 1))\n",
    "                        counter += 1\n",
    "                msg = '''{0} Non-ASCII character(s) detected, starting with\n",
    "                    line {1[0]}: {1[1]} including lines:{2}'''\n",
    "                msg = msg.format(counter, firstline, ', '.join(otherlines))\n",
    "                raise ValidationError(msg)\n",
    "\n",
    "    self.uploaded_file = None\n",
    "\n",
    "    # HDR check & basic data\n",
    "    if self.content[0:3] != 'HDR':\n",
    "        raise ValidationError('HDR Error')\n",
    "\n",
    "    # HDR is first line, no regex in sender creation\n",
    "    sender_id = self.content[5:14]\n",
    "    try:\n",
    "        self.created = datetime.strptime(self.content[64:78],\n",
    "                                         '%Y%m%d%H%M%S')\n",
    "    except:\n",
    "        msg = 'HDR datetime error: {}'\n",
    "        msg = msg.format(self.content[64:78])\n",
    "        raise ValidationError(msg)\n",
    "    trl = re.findall(self.RE_TRL, self.content)\n",
    "\n",
    "    # Exactly one TRL allowed\n",
    "    if len(trl) != 1:\n",
    "        raise ValidationError('TRL Error')\n",
    "\n",
    "    # Group counter, also counting works and lines\n",
    "    gc_1 = 0\n",
    "    wc_3 = 0\n",
    "    lc_3 = 2  # HDR & TRL records\n",
    "    for gr in re.findall(self.RE_GR, self.content):\n",
    "        gc_1 += 1\n",
    "        if gc_1 != int(gr[0]):\n",
    "            msg = 'Group ID mismatch: {0} vs {1}'.format(gc_1, gr[0])\n",
    "            raise ValidationError(msg)\n",
    "        wc_3 += int(gr[1])\n",
    "        lc_3 += int(gr[2])\n",
    "    gc_2 = int(trl[0][0])\n",
    "    if gc_1 != gc_2:\n",
    "        msg = 'Group count mismatch: {0} vs {1}'.format(gc_1, gc_2)\n",
    "        raise ValidationError(msg)\n",
    "\n",
    "    # Work counter\n",
    "    wc_1 = int(trl[0][1])\n",
    "    wc_2 = len(re.findall(self.RE_WORK_COUNTER, self.content))\n",
    "    if wc_1 != wc_2 or wc_1 != wc_3:\n",
    "        msg = 'Work count mismatch: {0} vs {1} vs {2}'\n",
    "        msg = msg.format(wc_1, wc_2, wc_3)\n",
    "        raise ValidationError(msg)\n",
    "\n",
    "    # Line counter\n",
    "    lc_1 = len(self.content.splitlines())\n",
    "    lc_2 = int(trl[0][2])\n",
    "    if lc_1 != lc_2 or lc_1 != lc_3:\n",
    "        msg = 'Line count mismatch: {0} vs {1} vs {2}'\n",
    "        msg = msg.format(lc_1, lc_2, lc_3)\n",
    "        raise ValidationError(msg)\n",
    "    self.group_count = gc_1\n",
    "    self.work_count = wc_1\n",
    "    self.line_count = lc_1\n",
    "```"
   ]
  },
  {
   "cell_type": "markdown",
   "metadata": {
    "slideshow": {
     "slide_type": "slide"
    }
   },
   "source": [
    "```python\n",
    "# Now - fields\n",
    "\n",
    "class EdiConstantField(EdiField):\n",
    "    \"\"\"EDI field for constants.\"\"\"\n",
    "    \n",
    "    def __init__(self, size, constant=None, *args, **kwargs):\n",
    "        if constant:\n",
    "            if len(constant) == size:\n",
    "                self._constant = constant\n",
    "            else:\n",
    "                raise AttributeError(\n",
    "                    f'Value \"{ value }\" is not { size } characters long.')\n",
    "        else:\n",
    "            self._constant = ' ' * size\n",
    "        super().__init__(size, *args, **kwargs)\n",
    "\n",
    "    def __set__(self, instance, value):\n",
    "        if value != self._constant:\n",
    "            super().__set__(instance, value)\n",
    "            raise FieldWarning(\n",
    "                f'Value must be \"{ self._constant }\", not \"{ value }\"')\n",
    "        super().__set__(instance, value)\n",
    "```"
   ]
  },
  {
   "cell_type": "markdown",
   "metadata": {
    "slideshow": {
     "slide_type": "slide"
    }
   },
   "source": [
    "```python\n",
    "# Now - records\n",
    "\n",
    "class EdiTRL(EdiRecord):\n",
    "    \"\"\"File trailer, minimal requirements.\"\"\"\n",
    "    \n",
    "    record_type = EdiConstantField(size=3, constant='TRL', mandatory=True)\n",
    "    group_count = EdiNumericField(size=5, mandatory=True)\n",
    "    transaction_count = EdiNumericField(size=8, mandatory=True)\n",
    "    record_count = EdiNumericField(size=8, mandatory=True)\n",
    "\n",
    "\n",
    "class EdiGRH(EdiRecord):\n",
    "    \"\"\"Group header, minimal requirements.\"\"\"\n",
    "    \n",
    "    record_type = EdiConstantField(size=3, constant='GRH', mandatory=True)\n",
    "    transaction_type = EdiField(size=3, mandatory=True)\n",
    "    group_id = EdiNumericField(size=5, mandatory=True)\n",
    "\n",
    "\n",
    "class EdiGRT(EdiRecord):\n",
    "    \"\"\"Group trailer, minimal requirements.\"\"\"\n",
    "    \n",
    "    record_type = EdiConstantField(size=3, constant='GRT', mandatory=True)\n",
    "    group_id = EdiNumericField(size=5, mandatory=True)\n",
    "    transaction_count = EdiNumericField(size=8, mandatory=True)\n",
    "    record_count = EdiNumericField(size=8, mandatory=True)\n",
    "```"
   ]
  },
  {
   "cell_type": "markdown",
   "metadata": {
    "slideshow": {
     "slide_type": "slide"
    }
   },
   "source": [
    "# https://github.com/musicmetadata/edi\n"
   ]
  },
  {
   "cell_type": "markdown",
   "metadata": {
    "slideshow": {
     "slide_type": "slide"
    }
   },
   "source": [
    "# Descriptors\n",
    "\n",
    "* objects that have special behavior when they’re accessed as attributes of other objects\n",
    "\n",
    "* implement some of:\n",
    "\n",
    "```python\n",
    "__get__(self, obj, type=None) -> object\n",
    "\n",
    "__set__(self, obj, value) -> None\n",
    "\n",
    "__delete__(self, obj) -> None\n",
    "\n",
    "__set_name__(self, owner, name)\n",
    "```"
   ]
  },
  {
   "cell_type": "markdown",
   "metadata": {
    "slideshow": {
     "slide_type": "slide"
    }
   },
   "source": [
    "# https://realpython.com/python-descriptors/"
   ]
  },
  {
   "cell_type": "code",
   "execution_count": 1,
   "metadata": {
    "slideshow": {
     "slide_type": "slide"
    }
   },
   "outputs": [],
   "source": [
    "class NameField(object):\n",
    "\n",
    "    def __set__(self, obj, value):\n",
    "        pass\n",
    "    \n",
    "    def __get__(self, obj, type=None):\n",
    "        pass\n",
    "\n",
    "    \n",
    "class Person(object):\n",
    "    \n",
    "    first_name = NameField()\n",
    "    last_name = NameField()\n",
    "    \n",
    "    def __str__(self):\n",
    "        return f'{ self.first_name } {self.last_name}'\n"
   ]
  },
  {
   "cell_type": "code",
   "execution_count": null,
   "metadata": {
    "slideshow": {
     "slide_type": "slide"
    }
   },
   "outputs": [],
   "source": [
    "person = Person()\n",
    "person.first_name = 'Matija'\n",
    "person.last_name = 'Kolarić'\n",
    "print(person)\n"
   ]
  },
  {
   "cell_type": "code",
   "execution_count": 2,
   "metadata": {
    "slideshow": {
     "slide_type": "slide"
    }
   },
   "outputs": [
    {
     "name": "stdout",
     "output_type": "stream",
     "text": [
      "None None\n"
     ]
    }
   ],
   "source": [
    "person = Person()\n",
    "person.first_name = 'Matija'\n",
    "person.last_name = 'Kolarić'\n",
    "print(person)\n"
   ]
  },
  {
   "cell_type": "markdown",
   "metadata": {
    "slideshow": {
     "slide_type": "slide"
    }
   },
   "source": [
    "# Storing data\n",
    "\n",
    "We must store it somewhere, so let us try a dictionary..."
   ]
  },
  {
   "cell_type": "code",
   "execution_count": 3,
   "metadata": {
    "slideshow": {
     "slide_type": "slide"
    }
   },
   "outputs": [],
   "source": [
    "class NameField(object):\n",
    "    \n",
    "    def __init__(self):\n",
    "        self.valuedict = {}\n",
    "    \n",
    "    def __set__(self, obj, value):\n",
    "        self.valuedict[obj] = value\n",
    "    \n",
    "    def __get__(self, obj, type=None):\n",
    "        return self.valuedict[obj]\n"
   ]
  },
  {
   "cell_type": "code",
   "execution_count": null,
   "metadata": {
    "slideshow": {
     "slide_type": "slide"
    }
   },
   "outputs": [],
   "source": [
    "class Person(object):\n",
    "    \n",
    "    first_name = NameField()\n",
    "    last_name = NameField()\n",
    "    \n",
    "    def __str__(self):\n",
    "        return f'{ self.first_name } {self.last_name}'\n",
    "\n",
    "\n",
    "person = Person()\n",
    "person.first_name = 'Matija'\n",
    "person.last_name = 'Kolarić'\n",
    "print(person)\n"
   ]
  },
  {
   "cell_type": "code",
   "execution_count": 4,
   "metadata": {
    "slideshow": {
     "slide_type": "slide"
    }
   },
   "outputs": [
    {
     "name": "stdout",
     "output_type": "stream",
     "text": [
      "Matija Kolarić\n"
     ]
    }
   ],
   "source": [
    "class Person(object):\n",
    "    \n",
    "    first_name = NameField()\n",
    "    last_name = NameField()\n",
    "    \n",
    "    def __str__(self):\n",
    "        return f'{ self.first_name } {self.last_name}'\n",
    "\n",
    "\n",
    "person = Person()\n",
    "person.first_name = 'Matija'\n",
    "person.last_name = 'Kolarić'\n",
    "print(person)\n"
   ]
  },
  {
   "cell_type": "markdown",
   "metadata": {
    "slideshow": {
     "slide_type": "slide"
    }
   },
   "source": [
    "# The End"
   ]
  },
  {
   "cell_type": "markdown",
   "metadata": {
    "slideshow": {
     "slide_type": "slide"
    }
   },
   "source": [
    "# The End ... is not even close\n",
    "\n",
    "We have a memory leak!!"
   ]
  },
  {
   "cell_type": "code",
   "execution_count": null,
   "metadata": {
    "slideshow": {
     "slide_type": "slide"
    }
   },
   "outputs": [],
   "source": [
    "import names  # name generator\n",
    "import guppy  # heap analysis\n",
    "import gc  # garbage collector\n",
    "\n",
    "heapy = guppy.hpy()\n",
    "heapy.setref()  # report differences from this point\n",
    "\n",
    "for i in range(1000):\n",
    "    person = Person()\n",
    "    person.first_name = names.get_first_name()\n",
    "    person.last_name = names.get_last_name()\n",
    "gc.collect()\n",
    "print(heapy.heap()[0:3])"
   ]
  },
  {
   "cell_type": "code",
   "execution_count": 5,
   "metadata": {
    "slideshow": {
     "slide_type": "slide"
    }
   },
   "outputs": [
    {
     "name": "stdout",
     "output_type": "stream",
     "text": [
      "Partition of a set of 3003 objects. Total size = 167545 bytes.\n",
      " Index  Count   %     Size   % Cumulative  % Kind (class / dict of class)\n",
      "     0   2000  67   110049  66    110049  66 str\n",
      "     1   1000  33    56000  33    166049  99 __main__.Person\n",
      "     2      3   0     1496   1    167545 100 types.FrameType\n"
     ]
    }
   ],
   "source": [
    "import names  # name generator\n",
    "import guppy  # heap analysis\n",
    "import gc  # garbage collector\n",
    "\n",
    "heapy = guppy.hpy()\n",
    "heapy.setref()  # report differences from this point\n",
    "\n",
    "for i in range(1000):\n",
    "    person = Person()\n",
    "    person.first_name = names.get_first_name()\n",
    "    person.last_name = names.get_last_name()\n",
    "gc.collect()\n",
    "print(heapy.heap()[0:3])"
   ]
  },
  {
   "cell_type": "markdown",
   "metadata": {
    "slideshow": {
     "slide_type": "slide"
    }
   },
   "source": [
    "# Remember  `NameField.valuedict` ?\n",
    "\n",
    "It keeps our Person objects in keys... and as long as they are ________ referenced, garbage collector will not touch them!\n",
    "\n",
    "We could delete the objects and handle the deletion in a ``__delete__`` method, but that is not very Pythonic."
   ]
  },
  {
   "cell_type": "markdown",
   "metadata": {
    "slideshow": {
     "slide_type": "slide"
    }
   },
   "source": [
    "# The might of the Weak references\n",
    "\n",
    "`NameField.valuedict` keeps our Person objects in keys... and as long as they are **strongly** referenced, garbage collector will not touch them!\n",
    "\n",
    "We will use *weak references* instead. When an object is only referenced by *weak references*, garbage collector will delete it and reclaim the memory.\n"
   ]
  },
  {
   "cell_type": "code",
   "execution_count": 6,
   "metadata": {
    "slideshow": {
     "slide_type": "slide"
    }
   },
   "outputs": [],
   "source": [
    "from weakref import WeakKeyDictionary\n",
    "\n",
    "\n",
    "class NameField(object):\n",
    "    \n",
    "    def __init__(self):\n",
    "        self.valuedict = WeakKeyDictionary()  # The right way\n",
    "    \n",
    "    def __set__(self, obj, value):\n",
    "        self.valuedict[obj] = value\n",
    "    \n",
    "    def __get__(self, obj, type=None):\n",
    "        return self.valuedict[obj]\n",
    "\n",
    "\n",
    "class Person(object):\n",
    "    \n",
    "    first_name = NameField()\n",
    "    last_name = NameField()\n",
    "    \n",
    "    def __str__(self):\n",
    "        return f'{ self.first_name } {self.last_name}'"
   ]
  },
  {
   "cell_type": "code",
   "execution_count": null,
   "metadata": {
    "slideshow": {
     "slide_type": "slide"
    }
   },
   "outputs": [],
   "source": [
    "import names  # name generator\n",
    "import guppy  # heap analysis\n",
    "import gc  # garbage collector\n",
    "\n",
    "heapy = guppy.hpy()\n",
    "heapy.setref()  # report differences from this point\n",
    "\n",
    "for i in range(1000):\n",
    "    person = Person()\n",
    "    person.first_name = names.get_first_name()\n",
    "    person.last_name = names.get_last_name()\n",
    "gc.collect()\n",
    "print(heapy.heap()[0:3])"
   ]
  },
  {
   "cell_type": "code",
   "execution_count": 7,
   "metadata": {
    "slideshow": {
     "slide_type": "slide"
    }
   },
   "outputs": [
    {
     "name": "stdout",
     "output_type": "stream",
     "text": [
      "Partition of a set of 19 objects. Total size = 2256 bytes.\n",
      " Index  Count   %     Size   % Cumulative  % Kind (class / dict of class)\n",
      "     0      3  16     1496  66      1496  66 types.FrameType\n",
      "     1      6  32      480  21      1976  88 builtins.weakref\n",
      "     2     10  53      280  12      2256 100 int\n"
     ]
    }
   ],
   "source": [
    "import names  # name generator\n",
    "import guppy  # heap analysis\n",
    "import gc  # garbage collector\n",
    "\n",
    "heapy = guppy.hpy()\n",
    "heapy.setref()  # report differences from this point\n",
    "\n",
    "for i in range(1000):\n",
    "    person = Person()\n",
    "    person.first_name = names.get_first_name()\n",
    "    person.last_name = names.get_last_name()\n",
    "gc.collect()\n",
    "print(heapy.heap()[0:3])"
   ]
  },
  {
   "cell_type": "code",
   "execution_count": 8,
   "metadata": {
    "slideshow": {
     "slide_type": "slide"
    }
   },
   "outputs": [],
   "source": [
    "from weakref import WeakKeyDictionary\n",
    "\n",
    "\n",
    "class NameField(object):\n",
    "    \n",
    "    def __init__(self):\n",
    "        self.valuedict = WeakKeyDictionary()  # The right way\n",
    "    \n",
    "    def __set__(self, obj, value):\n",
    "        if not isinstance(value, str):\n",
    "            raise AttributeError('Value is not a string')\n",
    "        value = value.strip()\n",
    "        self.valuedict[obj] = value\n",
    "    \n",
    "    def __get__(self, obj, type=None):\n",
    "        return self.valuedict.get(obj)\n"
   ]
  },
  {
   "cell_type": "code",
   "execution_count": null,
   "metadata": {
    "slideshow": {
     "slide_type": "slide"
    }
   },
   "outputs": [],
   "source": [
    "class Person(object):\n",
    "    \n",
    "    def __init__(self, first_name=None, last_name=None):\n",
    "        self.first_name = first_name\n",
    "        self.last_name = last_name\n",
    "    \n",
    "    first_name = NameField()\n",
    "    last_name = NameField()\n",
    "    \n",
    "    def __str__(self):\n",
    "        return f'{ self.first_name } {self.last_name}'\n",
    "    \n",
    "print(Person('Matija', 'Kolarić'))\n"
   ]
  },
  {
   "cell_type": "code",
   "execution_count": 9,
   "metadata": {
    "slideshow": {
     "slide_type": "slide"
    }
   },
   "outputs": [
    {
     "name": "stdout",
     "output_type": "stream",
     "text": [
      "Matija Kolarić\n"
     ]
    }
   ],
   "source": [
    "class Person(object):\n",
    "    \n",
    "    def __init__(self, first_name=None, last_name=None):\n",
    "        self.first_name = first_name\n",
    "        self.last_name = last_name\n",
    "    \n",
    "    first_name = NameField()\n",
    "    last_name = NameField()\n",
    "    \n",
    "    def __str__(self):\n",
    "        return f'{ self.first_name } {self.last_name}'\n",
    "    \n",
    "print(Person('Matija', 'Kolarić'))\n"
   ]
  },
  {
   "cell_type": "code",
   "execution_count": 10,
   "metadata": {
    "slideshow": {
     "slide_type": "slide"
    }
   },
   "outputs": [
    {
     "name": "stdout",
     "output_type": "stream",
     "text": [
      "ACME\n"
     ]
    }
   ],
   "source": [
    "    \n",
    "class Company(object):\n",
    "\n",
    "    def __init__(self, name=None):\n",
    "        self.name = name\n",
    "        \n",
    "    name = NameField()\n",
    "    \n",
    "    def __str__(self):\n",
    "        return self.name\n",
    "    \n",
    "\n",
    "print(Company('ACME'))"
   ]
  }
 ],
 "metadata": {
  "celltoolbar": "Slideshow",
  "kernelspec": {
   "display_name": "Python 3",
   "language": "python",
   "name": "python3"
  },
  "language_info": {
   "codemirror_mode": {
    "name": "ipython",
    "version": 3
   },
   "file_extension": ".py",
   "mimetype": "text/x-python",
   "name": "python",
   "nbconvert_exporter": "python",
   "pygments_lexer": "ipython3",
   "version": "3.6.9"
  }
 },
 "nbformat": 4,
 "nbformat_minor": 2
}
